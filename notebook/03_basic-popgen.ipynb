{
 "cells": [
  {
   "cell_type": "markdown",
   "id": "c9d675f0-215e-46ea-9f14-b2b7ad4d7580",
   "metadata": {},
   "source": [
    "# Basic Popgen analyses for Cuckoo dataset\n",
    "\n",
    "    author: Gekkonid Consulting\n",
    "    date: 2021-10-24"
   ]
  },
  {
   "cell_type": "markdown",
   "id": "6a32c251",
   "metadata": {},
   "source": [
    "In this notebook we perform some basic popgen analyses including PCA,\n",
    "$F_{ST}$, etc. "
   ]
  },
  {
   "cell_type": "code",
   "execution_count": null,
   "id": "5f80ad8d",
   "metadata": {},
   "outputs": [],
   "source": [
    "library(tidyverse)\n",
    "library(SNPRelate)\n",
    "if (!dir.exists(\"data/2_popgen/\")) dir.create(\"data/2_popgen\")\n",
    "if (!dir.exists(\"out/03_basic_popgen/\")) dir.create(\"out/03_basic_popgen\")"
   ]
  },
  {
   "cell_type": "code",
   "execution_count": null,
   "id": "9d5888db",
   "metadata": {},
   "outputs": [],
   "source": [
    "meta = read_csv(\"../rawdata/cuckoo_metadata_oct2021.csv\")"
   ]
  },
  {
   "cell_type": "markdown",
   "id": "f4aa0b4b",
   "metadata": {},
   "source": [
    "We are using the SNP set with standard filters (QUAL > 50, DEPTH > 10, MAF >\n",
    "3%, MISSING < 80%) combined with a RAD-locus filter. In total this should be\n",
    "at about 10k RAD loci. These thresholds throw out a large number of very\n",
    "rare or near-fixed SNPs, many of which have data only in a few samples (i.e.\n",
    "high missingness)."
   ]
  },
  {
   "cell_type": "markdown",
   "id": "88e1a089",
   "metadata": {},
   "source": [
    "We will use SNPRelate to do most of the basic popgen analyses. One therefore\n",
    "needs to convert the vcf.gz to a 'gds' file (see `?gdsfmt`)."
   ]
  },
  {
   "cell_type": "code",
   "execution_count": null,
   "id": "75fda32e",
   "metadata": {},
   "outputs": [],
   "source": [
    "if (!file.exists(\"data/2_popgen/cuckoo_q50_dp10_maf3_mis80_radloci.gds\")) {\n",
    "    snpgdsVCF2GDS(\"data/1_filtered/cuckoo_q50_dp10_maf3_mis80_radloci.vcf.gz\",\n",
    "                  \"data/2_popgen/cuckoo_q50_dp10_maf3_mis80_radloci.gds\")\n",
    "}"
   ]
  },
  {
   "cell_type": "code",
   "execution_count": null,
   "id": "ea5d39e5",
   "metadata": {},
   "outputs": [],
   "source": [
    "gds = snpgdsOpen(\"data/2_popgen/cuckoo_q50_dp10_maf3_mis80_radloci.gds\", allow.duplicate=T)"
   ]
  },
  {
   "cell_type": "markdown",
   "id": "e58aab3e",
   "metadata": {},
   "source": [
    "First, let's get a summary of this file (snp and sample IDs are saved to\n",
    "`gds.sum`)."
   ]
  },
  {
   "cell_type": "code",
   "execution_count": null,
   "id": "8c6c366a",
   "metadata": {},
   "outputs": [],
   "source": [
    "gds.sum = snpgdsSummary(gds)"
   ]
  },
  {
   "cell_type": "code",
   "execution_count": null,
   "id": "c72c3a9c",
   "metadata": {},
   "outputs": [],
   "source": [
    "# Ensure we keep metadata only for sequenced samples -- make code much simpler\n",
    "# below.\n",
    "meta = meta %>%\n",
    "    filter(Library_id %in% gds.sum$sample.id)"
   ]
  },
  {
   "cell_type": "markdown",
   "id": "81803cd0",
   "metadata": {},
   "source": [
    "So in total we have 82 samples and 40k SNPs (approx 4 SNPs per locus, which\n",
    "given the range of insert sizes is 50-500bp, sounds on the high side).\n",
    "\n",
    "## Screen for failed samples.\n",
    "\n",
    "The first step in a typical analysis would be removing poor samples. However\n",
    "this analysis is a bit different, in that we need to split the dataset in\n",
    "two: the \"fresh\" samples that broadly worked well, and the museum samples\n",
    "that performed largely quite poorly. We still wish to do some basic analysis\n",
    "of the museum samples, but that should be conducted separately."
   ]
  },
  {
   "cell_type": "markdown",
   "id": "af9fd6c6",
   "metadata": {},
   "source": [
    "First though, let's plot everything together."
   ]
  },
  {
   "cell_type": "code",
   "execution_count": null,
   "id": "91413062",
   "metadata": {},
   "outputs": [],
   "source": [
    "sampmiss = read_tsv(\"data/1_filtered/cuckoo_q50_dp10_maf3_mis80_radloci_samphist.tsv\") %>%\n",
    "    inner_join(meta, by=c(\"sample\"=\"Library_id\")) %>%\n",
    "    arrange(-missing_prop)"
   ]
  },
  {
   "cell_type": "code",
   "execution_count": null,
   "id": "9a059d06",
   "metadata": {},
   "outputs": [],
   "source": [
    "ggplot(sampmiss, aes(x=missing_prop)) +\n",
    "    geom_histogram(aes(fill=Sample_type, colour=Sample_type)) +\n",
    "    labs(title=\"RAD-locus Filtered Sample Missingness\")"
   ]
  },
  {
   "cell_type": "markdown",
   "id": "3b807796",
   "metadata": {},
   "source": [
    "Now let's subdivide the dataset into a \"fresh\" section and a \"museum\"\n",
    "section."
   ]
  },
  {
   "cell_type": "code",
   "execution_count": null,
   "id": "ee9c1874",
   "metadata": {},
   "outputs": [],
   "source": [
    "museum.samp.types = c(\"Feather\", \"Ethanol-preserved_eggshell\",\n",
    "                      \"Museum_eggshell\", \"Nest\")\n",
    "fresh.samp.types=  c(\"Adult_tissue\",\n",
    "                     \"Ethanol-preserved_chick\",\n",
    "                     \"Ethanol-preserved_embryo\",\n",
    "                     \"Frozen_chick\", \"Frozen_embryo\",\n",
    "                     \"Frozen_embryos\")"
   ]
  },
  {
   "cell_type": "code",
   "execution_count": null,
   "id": "6d6d1f3f",
   "metadata": {},
   "outputs": [],
   "source": [
    "samp.fresh = meta %>%\n",
    "    filter(Sample_type %in% fresh.samp.types) %>%\n",
    "    pull(Library_id)\n",
    "writeLines(samp.fresh, \"data/samples_fresh.txt\")"
   ]
  },
  {
   "cell_type": "code",
   "execution_count": null,
   "id": "af6ede31",
   "metadata": {},
   "outputs": [],
   "source": [
    "samp.museum = meta %>%\n",
    "    filter(Sample_type %in% museum.samp.types) %>%\n",
    "    pull(Library_id)\n",
    "writeLines(samp.museum, \"data/samples_museum.txt\")"
   ]
  },
  {
   "cell_type": "markdown",
   "id": "83d904da",
   "metadata": {},
   "source": [
    "...and then plot the same figure again, this time coloured by \"museum\" vs\n",
    "\"fresh\" (and some excluded samples)."
   ]
  },
  {
   "cell_type": "code",
   "execution_count": null,
   "id": "02a8131e",
   "metadata": {},
   "outputs": [],
   "source": [
    "sampmiss = sampmiss %>%\n",
    "    mutate(sample.category = case_when(\n",
    "        Sample_type %in% fresh.samp.types ~ \"fresh\",\n",
    "        Sample_type %in% museum.samp.types ~ \"museum\",\n",
    "        T ~ \"excluded\"))"
   ]
  },
  {
   "cell_type": "code",
   "execution_count": null,
   "id": "e3222279",
   "metadata": {
    "lines_to_next_cell": 2
   },
   "outputs": [],
   "source": [
    "ggplot(sampmiss, aes(x=missing_prop)) +\n",
    "    geom_histogram(aes(fill=sample.category,\n",
    "                       colour=sample.category)) +\n",
    "    labs(x=\"Sample Missingness Rate\")"
   ]
  },
  {
   "cell_type": "markdown",
   "id": "f7204537",
   "metadata": {
    "lines_to_next_cell": 2
   },
   "source": [
    "## Museum sample basic analysis\n",
    "\n",
    "Let's dig into the museum samples. As these samples are mostly very poor\n",
    "quality, we don't filter out failed samples (by any traditional definition\n",
    "of failed, they all are!). We still weed out the crappier SNPs though (snp\n",
    "missing threshold of 90%)."
   ]
  },
  {
   "cell_type": "code",
   "execution_count": null,
   "id": "29b34383",
   "metadata": {
    "lines_to_next_cell": 2
   },
   "outputs": [],
   "source": [
    "pca.museum = snpgdsPCA(gds, sample.id=samp.museum, num.thread=12,\n",
    "                       autosome.only=F, missing.rate=0.9)\n",
    "plot(pca.museum)\n",
    "plot(pca.museum[,1:3])"
   ]
  },
  {
   "cell_type": "markdown",
   "id": "6282bb6f",
   "metadata": {},
   "source": [
    "It appears that the first couple of PCs describe the two mysteriously\n",
    "successful \"museum\" samples that deviate from the \"cloud\" of low coverage\n",
    "samples, as is normal. Let's plot the subsequent axes which hopefully \"see\n",
    "past\" these two outlier samples."
   ]
  },
  {
   "cell_type": "code",
   "execution_count": null,
   "id": "6e792fc4",
   "metadata": {
    "lines_to_next_cell": 2
   },
   "outputs": [],
   "source": [
    "miss.col.mus = sampmiss[match(pca.museum$sample.id, sampmiss$sample),]$missing_prop %>%\n",
    "    cut(breaks=5)\n",
    "plot(pca.museum, 1:3, col=miss.col.mus, pch=19, oma=c(14,4,4,4))\n",
    "par(xpd=TRUE)\n",
    "legend(\"bottom\", legend=levels(miss.col.mus), pch=19, col=1:5, ncol=3,\n",
    "       y.intersp=0.5, x.intersp=0.5, text.width=0.2)\n",
    "par(xpd=F)\n",
    "dev.copy(pdf, \"out/03_basic_popgen/musuem-samples.pdf\", width=12, height=10)\n",
    "dev.off()"
   ]
  },
  {
   "cell_type": "markdown",
   "id": "90e4dea4",
   "metadata": {},
   "source": [
    "Apparently not. It takes until the ninth and tenth axes before we get past\n",
    "axes describing single samples' divergences from the pack, and even then it\n",
    "seems as though the patterns are driven by missing data (or something\n",
    "correlated to it).\n",
    "\n",
    "I'm not sure how much more we can do with this dataset.\n",
    "\n",
    "# Fresh sample basic popgen\n"
   ]
  },
  {
   "cell_type": "code",
   "execution_count": null,
   "id": "bb136c01",
   "metadata": {
    "lines_to_next_cell": 2
   },
   "outputs": [],
   "source": [
    "pca.fresh = snpgdsPCA(gds, num.thread=12, autosome.only=F, missing.rate = .85,\n",
    "                      sample.id = samp.fresh)"
   ]
  },
  {
   "cell_type": "code",
   "execution_count": null,
   "id": "f166ec89",
   "metadata": {},
   "outputs": [],
   "source": [
    "meta.fresh = sampmiss[match(pca.fresh$sample.id, sampmiss$sample),]\n",
    "morph.col = ifelse(is.na(meta.fresh$Adult_morph), \"Chick_unknown_morph\",\n",
    "                   meta.fresh$Adult_morph) %>%\n",
    "    as.factor()\n",
    "plot(pca.fresh, 1:3, col=morph.col, pch=19, oma=c(14,4,4,4))\n",
    "par(xpd=TRUE)\n",
    "legend(\"bottom\", legend=levels(morph.col), pch=19, ncol=3,\n",
    "       col=1:length(levels(morph.col)), y.intersp=0.5, x.intersp=0.5,\n",
    "       text.width=0.2)\n",
    "par(xpd=F)\n",
    "dev.copy(pdf, \"out/03_basic_popgen/fresh-samples.pdf\", width=12, height=10)\n",
    "dev.off()"
   ]
  },
  {
   "cell_type": "markdown",
   "id": "5f7520ef",
   "metadata": {},
   "source": [
    "So that is promising. There is some clear population structure in there (see\n",
    "clustering of morphs), but there is also a fairly noisy signal and the first\n",
    "few axes are dominated by single outlier samples. This is possibly\n",
    "biological as there are a few individuals from other species in there, but\n",
    "also likely due to technical artefacts.\n",
    "\n",
    "We will do subsequent analyses on this sample set in the next notebook."
   ]
  }
 ],
 "metadata": {
  "jupytext": {
   "cell_metadata_filter": "-all",
   "main_language": "R",
   "notebook_metadata_filter": "-all"
  },
  "kernelspec": {
   "display_name": "R",
   "language": "R",
   "name": "ir"
  },
  "language_info": {
   "codemirror_mode": "r",
   "file_extension": ".r",
   "mimetype": "text/x-r-source",
   "name": "R",
   "pygments_lexer": "r",
   "version": "4.0.4"
  }
 },
 "nbformat": 4,
 "nbformat_minor": 5
}
