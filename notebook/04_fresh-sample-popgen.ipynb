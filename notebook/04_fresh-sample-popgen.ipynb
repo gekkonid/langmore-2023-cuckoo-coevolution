{
 "cells": [
  {
   "cell_type": "markdown",
   "id": "e0d77292-d2aa-4fda-ac4c-d07c7bcbe535",
   "metadata": {},
   "source": [
    "# Cuckoo fresh sample analysis\n",
    "\n",
    "    author: Gekkonid Consulting\n",
    "    date: 2021-10-24"
   ]
  },
  {
   "cell_type": "markdown",
   "id": "b4bac1d4",
   "metadata": {},
   "source": [
    "This is the full basic popgen analyses on all fresh or otherwise\n",
    "high-quality samples. This takes a much more traditional shape than the\n",
    "analysis of the museum samples."
   ]
  },
  {
   "cell_type": "code",
   "execution_count": null,
   "id": "43c16168",
   "metadata": {},
   "outputs": [],
   "source": [
    "library(tidyverse)\n",
    "library(SNPRelate)\n",
    "library(pcaMethods)\n",
    "library(adegenet)\n",
    "library(hierfstat)\n",
    "if (!dir.exists(\"out/04_fresh\")) dir.create(\"out/04_fresh\")\n",
    "meta = read_csv(\"../rawdata/cuckoo_metadata_oct2021.csv\")"
   ]
  },
  {
   "cell_type": "markdown",
   "id": "1d12e1da",
   "metadata": {},
   "source": [
    "\n",
    "## Poor sample removal\n",
    "\n",
    "Nearly all fresh samples look pretty good, and nearly all museum samples\n",
    "performed poorly. This means we can just filter the data by sample\n",
    "missingness to select our set of samples we want to carry forward."
   ]
  },
  {
   "cell_type": "code",
   "execution_count": null,
   "id": "6b1cc45a",
   "metadata": {},
   "outputs": [],
   "source": [
    "gds = snpgdsOpen(\"data/2_popgen/cuckoo_q50_dp10_maf3_mis80_radloci.gds\",\n",
    "                 allow.duplicate=T)\n",
    "gds.sum = snpgdsSummary(gds)"
   ]
  },
  {
   "cell_type": "markdown",
   "id": "32cfbc08",
   "metadata": {},
   "source": [
    "Ensure we keep metadata only for sequenced samples -- make code much simpler\n",
    "below."
   ]
  },
  {
   "cell_type": "code",
   "execution_count": null,
   "id": "7fee9fdf",
   "metadata": {},
   "outputs": [],
   "source": [
    "meta = meta %>%\n",
    "    filter(Library_id %in% gds.sum$sample.id)"
   ]
  },
  {
   "cell_type": "markdown",
   "id": "9451b501",
   "metadata": {},
   "source": [
    "So in total we have 82 samples and 40k SNPs (approx 4 SNPs per locus, which\n",
    "given the range of insert sizes is 50-500bp, sounds on the high side).\n"
   ]
  },
  {
   "cell_type": "code",
   "execution_count": null,
   "id": "2fbc5d18",
   "metadata": {},
   "outputs": [],
   "source": [
    "smr = snpgdsSampMissRate(gds)"
   ]
  },
  {
   "cell_type": "code",
   "execution_count": null,
   "id": "bbf5bee3",
   "metadata": {},
   "outputs": [],
   "source": [
    "hist(smr, breaks=60)\n",
    "abline(v=0.45)"
   ]
  },
  {
   "cell_type": "markdown",
   "id": "a092b89b",
   "metadata": {},
   "source": [
    "45% missing data seems to be a pretty good threshold"
   ]
  },
  {
   "cell_type": "code",
   "execution_count": null,
   "id": "ccf5753e",
   "metadata": {},
   "outputs": [],
   "source": [
    "table(smr < 0.45)\n",
    "good.samp = gds.sum$sample.id[smr < 0.45]\n",
    "meta.good = meta[match(good.samp, meta$Library_id),]"
   ]
  },
  {
   "cell_type": "markdown",
   "id": "b6bb5288",
   "metadata": {},
   "source": [
    "This leaves us with 29 good samples. Let's very quickly see what population\n",
    "structure looks like in PCA form:"
   ]
  },
  {
   "cell_type": "code",
   "execution_count": null,
   "id": "94b6790b",
   "metadata": {},
   "outputs": [],
   "source": [
    "pca.fresh.initial = snpgdsPCA(gds, num.thread=12, autosome.only=F,\n",
    "                              missing.rate=0.85, sample.id = good.samp)"
   ]
  },
  {
   "cell_type": "code",
   "execution_count": null,
   "id": "3c5b6af9",
   "metadata": {},
   "outputs": [],
   "source": [
    "morph.col = ifelse(is.na(meta.good$Adult_morph), \"Chick_unknown_morph\",\n",
    "                   meta.good$Adult_morph) %>%\n",
    "    as.factor()\n",
    "plot(pca.fresh.initial, 1:10, col=morph.col, pch=19, oma=c(14,4,4,4))\n",
    "par(xpd=TRUE)\n",
    "legend(\"bottom\", legend=levels(morph.col), pch=19, ncol=3,\n",
    "       col=1:length(levels(morph.col)), y.intersp=0.5, x.intersp=0.5,\n",
    "       text.width=0.2)"
   ]
  },
  {
   "cell_type": "code",
   "execution_count": null,
   "id": "63328d4d",
   "metadata": {},
   "outputs": [],
   "source": [
    "par(xpd=F)"
   ]
  },
  {
   "cell_type": "code",
   "execution_count": null,
   "id": "dae77d4e",
   "metadata": {},
   "outputs": [],
   "source": [
    "dev.copy(pdf, \"out/04_fresh/initial-pca.pdf\", width=12, height=10)\n",
    "dev.off()"
   ]
  },
  {
   "cell_type": "markdown",
   "id": "3d0ca911",
   "metadata": {},
   "source": [
    "Still not super clear. we have a couple of outlier samples (which drive PC1\n",
    "& PC2), probably correponding to genuine ouliers given we know there are\n",
    "some non-LBC individuals in there. \n",
    "\n",
    "## Extract genotypes\n",
    "\n",
    "To perform subsequent analyses, we first need to extract a set of good\n",
    "quality SNPs from the GDS file SNPRelate.\n",
    "\n",
    "First, get the per-SNP stats"
   ]
  },
  {
   "cell_type": "code",
   "execution_count": null,
   "id": "a13e3b8d",
   "metadata": {},
   "outputs": [],
   "source": [
    "snprate = snpgdsSNPRateFreq(gds, sample.id = good.samp)"
   ]
  },
  {
   "cell_type": "markdown",
   "id": "4e967aa4",
   "metadata": {},
   "source": [
    "...and plot them."
   ]
  },
  {
   "cell_type": "code",
   "execution_count": null,
   "id": "2dd54521",
   "metadata": {},
   "outputs": [],
   "source": [
    "hist(snprate$MissingRate, breaks=30)\n",
    "abline(v=0.3)\n",
    "hist(snprate$MinorFreq, breaks=30)\n",
    "abline(v=0.03)"
   ]
  },
  {
   "cell_type": "markdown",
   "id": "eaa4cc84",
   "metadata": {},
   "source": [
    "The missingness rate looks really good for most of these, and MAF follows a\n",
    "pretty common pattern. We exclude the long tail of high missingness SNPs,\n",
    "and throw out very rare alleles (mainly to reduce the number of SNPs)."
   ]
  },
  {
   "cell_type": "code",
   "execution_count": null,
   "id": "dde74d84",
   "metadata": {},
   "outputs": [],
   "source": [
    "good.snp = snprate$MissingRate < 0.3 & snprate$MinorFreq > 0.03\n",
    "table(good.snp)"
   ]
  },
  {
   "cell_type": "markdown",
   "id": "79fd4378",
   "metadata": {},
   "source": [
    "So in total we have 25k good SNPs, which seems like plenty."
   ]
  },
  {
   "cell_type": "code",
   "execution_count": null,
   "id": "941bc2b5",
   "metadata": {},
   "outputs": [],
   "source": [
    "good.gn = snpgdsGetGeno(gds, sample.id = good.samp, snp.id=which(good.snp))"
   ]
  },
  {
   "cell_type": "markdown",
   "id": "1dac087b",
   "metadata": {},
   "source": [
    "Below is a visual representation of the missingness in this dataset."
   ]
  },
  {
   "cell_type": "code",
   "execution_count": null,
   "id": "3cc05f98",
   "metadata": {},
   "outputs": [],
   "source": [
    "image(is.na(good.gn))"
   ]
  },
  {
   "cell_type": "markdown",
   "id": "fe83931b",
   "metadata": {},
   "source": [
    "\n",
    "## Probablistic PCA\n",
    "\n",
    "Use PPCA from the pcaMethods[^pcamethods] package to do a missing-data\n",
    "tolerant PCA, as it performs well with more missing data. "
   ]
  },
  {
   "cell_type": "code",
   "execution_count": null,
   "id": "6cce0ac8",
   "metadata": {},
   "outputs": [],
   "source": [
    "dim(good.gn)\n",
    "bpc = xfun::cache_rds({\n",
    "     pca(good.gn, method=\"ppca\", center=T, nPcs=3, maxSteps=1000)\n",
    "}, file=\"04_bpca\", dir=\"data/cache/\",  compress=\"xz\")"
   ]
  },
  {
   "cell_type": "code",
   "execution_count": null,
   "id": "448fa937",
   "metadata": {},
   "outputs": [],
   "source": [
    "bpc.scores = scores(bpc)\n",
    "pairs(bpc.scores, col=morph.col, pch=19, oma=c(14,4,4,4))\n",
    "par(xpd=TRUE)\n",
    "legend(\"bottom\", legend=levels(morph.col), pch=19, ncol=3,\n",
    "       col=1:length(levels(morph.col)), y.intersp=0.5, x.intersp=0.5,\n",
    "       text.width=0.2)\n",
    "par(xpd=F)\n",
    "dev.copy(pdf, \"out/04_fresh/prob-pca.pdf\", width=12, height=10)\n",
    "dev.off()"
   ]
  },
  {
   "cell_type": "code",
   "execution_count": null,
   "id": "a267bdcd",
   "metadata": {},
   "outputs": [],
   "source": [
    "write_tsv(meta.good, \"allgood.tsv\")"
   ]
  },
  {
   "cell_type": "code",
   "execution_count": null,
   "id": "78763616",
   "metadata": {},
   "outputs": [],
   "source": [
    "morphchick.col = ifelse(is.na(meta.good$Adult_morph), meta.good$Library_id, \n",
    "                   meta.good$Adult_morph) %>%\n",
    "    as.factor()"
   ]
  },
  {
   "cell_type": "code",
   "execution_count": null,
   "id": "4d2b54ad",
   "metadata": {},
   "outputs": [],
   "source": [
    "pairs(bpc.scores, col=morphchick.col, pch=19, oma=c(14,4,4,4))\n",
    "par(xpd=TRUE)\n",
    "legend(\"bottom\", legend=levels(morphchick.col), pch=19, ncol=3,\n",
    "       col=1:length(levels(morphchick.col)), y.intersp=0.5, x.intersp=0.5,\n",
    "       text.width=0.2)\n",
    "par(xpd=F)"
   ]
  },
  {
   "cell_type": "code",
   "execution_count": null,
   "id": "551943f3",
   "metadata": {
    "lines_to_next_cell": 2
   },
   "outputs": [],
   "source": [
    "dev.copy(pdf, \"out/04_fresh/prob-pca-chickid.pdf\", width=12, height=10)\n",
    "dev.off()"
   ]
  },
  {
   "cell_type": "code",
   "execution_count": null,
   "id": "ece6dab2",
   "metadata": {
    "lines_to_next_cell": 2
   },
   "outputs": [],
   "source": [
    "str(meta.good)\n",
    "latcut = cut(meta.good$Lat, breaks=8)\n",
    "pairs(bpc.scores, col=latcut, pch=19, oma=c(14,4,4,4))\n",
    "par(xpd=TRUE)\n",
    "legend(\"bottom\", legend=levels(latcut), pch=19, ncol=3,\n",
    "       col=1:length(levels(latcut)), y.intersp=0.5, x.intersp=0.5,\n",
    "       text.width=0.2)\n",
    "par(xpd=F)"
   ]
  },
  {
   "cell_type": "markdown",
   "id": "6b078c69",
   "metadata": {},
   "source": [
    "So that looks a lot better than the default SVD-based PCA. We can see that\n",
    "despite there being a quite dispersed signal, there are some signs of very\n",
    "weak population structure between morphs.  It looks like most of the chicks\n",
    "are probably QLD russatus, given where they cluster. They aren't getting\n",
    "split any time soon (hopefully) but I think there is clearly some genetic\n",
    "evidence to support very weak and likely nascent population differentiation.\n",
    "\n",
    "## DAPC\n",
    "\n",
    "DAPC is part of Adegenet, so first let's convert the snp matrix to a\n",
    "genlight object."
   ]
  },
  {
   "cell_type": "code",
   "execution_count": null,
   "id": "82f69633",
   "metadata": {},
   "outputs": [],
   "source": [
    "snp.gl = new(\"genlight\", gen=good.gn, ploidy=2, indnames=good.samp)"
   ]
  },
  {
   "cell_type": "markdown",
   "id": "27143b2a",
   "metadata": {},
   "source": [
    "I find DAPC to be a bit of a funny method, as it will *always* find the\n",
    "expected structure. I do this analysis mostly for completeness, as it is a\n",
    "good way of showing structure visually when a vanilla PCA gets swamped by\n",
    "technical noise as is the case to some extent here."
   ]
  },
  {
   "cell_type": "code",
   "execution_count": null,
   "id": "580e42ef",
   "metadata": {
    "lines_to_next_cell": 2
   },
   "outputs": [],
   "source": [
    "dapc.morph =  dapc(snp.gl, morph.col, n.pca=20, n.da=4)\n",
    "scatter(dapc.morph)"
   ]
  },
  {
   "cell_type": "markdown",
   "id": "92858ae2",
   "metadata": {},
   "source": [
    "\n",
    "## Population differentiation: $F_{ST}$\n",
    "\n",
    "We will use hierfstat to compute FST\n",
    "\n",
    "Hierfstat takes a dataframe whose rows are individuals and whose first\n",
    "column is a populaton code, and remaning columns are loci"
   ]
  },
  {
   "cell_type": "code",
   "execution_count": null,
   "id": "ff58e298",
   "metadata": {
    "lines_to_next_cell": 2
   },
   "outputs": [],
   "source": [
    "hierf.dat = as.data.frame(cbind(morph.col, as.matrix(snp.gl)))"
   ]
  },
  {
   "cell_type": "markdown",
   "id": "ead08aff",
   "metadata": {},
   "source": [
    "This calculation takes a while so cache it."
   ]
  },
  {
   "cell_type": "code",
   "execution_count": null,
   "id": "8e52af90",
   "metadata": {},
   "outputs": [],
   "source": [
    "pwfst = xfun::cache_rds({\n",
    "    pairwise.WCfst(hierf.dat)\n",
    "}, file=\"04_pwfst\", dir=\"data/cache/\",  compress=\"xz\")"
   ]
  },
  {
   "cell_type": "code",
   "execution_count": null,
   "id": "9ecdbccd",
   "metadata": {},
   "outputs": [],
   "source": [
    "pwfst"
   ]
  },
  {
   "cell_type": "markdown",
   "id": "2ce8a339",
   "metadata": {},
   "source": [
    "So this reveals the extremely small amount of divergence in these samples.\n",
    "inter-pop $F_{ST}$ is under 1%.\n",
    "\n",
    "\n",
    "# Biological take-home messages\n",
    "\n",
    "1. The dataset is of pretty good quality, and a high quality subset had 29\n",
    "   samples and about 25k SNPs.\n",
    "2. In a vanilla PCA, we see a small signal of divergence between morphs,\n",
    "   however technical noise muddies this signal.\n",
    "3. Probablistic PCA resolved this, revealing some potentially weak\n",
    "   population structure.\n",
    "4. DAPC shows very clear divergence betwen populatons, however DAPC will\n",
    "   always do so with data of any reasonable quality.\n",
    "5. $F_{ST}$ shows that the relative divegence is very low (<1%). This is\n",
    "   likely an underestimate as $F_{ST}$ will be underestimated in the\n",
    "   presence of noisy data like ours.\n",
    "\n",
    "[^pcamethods]: pcaMethods—a bioconductor package providing PCA methods for incomplete data https://academic.oup.com/bioinformatics/article/23/9/1164/272597"
   ]
  }
 ],
 "metadata": {
  "jupytext": {
   "cell_metadata_filter": "-all",
   "main_language": "R",
   "notebook_metadata_filter": "-all"
  },
  "kernelspec": {
   "display_name": "R",
   "language": "R",
   "name": "ir"
  },
  "language_info": {
   "codemirror_mode": "r",
   "file_extension": ".r",
   "mimetype": "text/x-r-source",
   "name": "R",
   "pygments_lexer": "r",
   "version": "4.0.4"
  }
 },
 "nbformat": 4,
 "nbformat_minor": 5
}
