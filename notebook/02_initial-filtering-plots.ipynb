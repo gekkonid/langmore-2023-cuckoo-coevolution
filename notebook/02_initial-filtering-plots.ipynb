{
 "cells": [
  {
   "cell_type": "markdown",
   "id": "221dc14f-c8fa-499f-a978-3dd0361d6b4b",
   "metadata": {},
   "source": [
    "# Plots accompanying initial variant filtering\n",
    "\n",
    "    author: Gekkonid Consulting\n",
    "    date: 2021-10-24"
   ]
  },
  {
   "cell_type": "markdown",
   "id": "128b7999",
   "metadata": {},
   "source": [
    "This notebook complements `01_initial-filtering.sh`, plotting various\n",
    "statistics and histograms on the input and outputs of that notebook. "
   ]
  },
  {
   "cell_type": "code",
   "execution_count": null,
   "id": "f0f2eae5",
   "metadata": {
    "lines_to_next_cell": 2
   },
   "outputs": [],
   "source": [
    "library(tidyverse)\n",
    "library(foreach)\n",
    "theme_set(theme_bw())"
   ]
  },
  {
   "cell_type": "markdown",
   "id": "75d8c6db",
   "metadata": {},
   "source": [
    "## Raw data\n",
    "\n",
    "These are the variant calls directly out of Acanthophis. We generated some\n",
    "stats with htshax, which we plot here."
   ]
  },
  {
   "cell_type": "code",
   "execution_count": null,
   "id": "06462e48",
   "metadata": {},
   "outputs": [],
   "source": [
    "samphist = read_tsv(\"data/1_filtered/raw_variants_samphist.tsv\")\n",
    "bcfhist = read_tsv(\"data/1_filtered/raw_variants_bcfhist.tsv\")"
   ]
  },
  {
   "cell_type": "code",
   "execution_count": null,
   "id": "d153a25a",
   "metadata": {},
   "outputs": [],
   "source": [
    "ggplot(bcfhist, aes(x=percent, y=..density.., weight=nsnp)) +\n",
    "\tgeom_density() +\n",
    "\tfacet_wrap(~metric, ncol=1, scales=\"free_x\")"
   ]
  },
  {
   "cell_type": "code",
   "execution_count": null,
   "id": "37075439",
   "metadata": {},
   "outputs": [],
   "source": [
    "ggplot(bcfhist, aes(x=percent, y=nsnp)) +\n",
    "\tgeom_bar(stat=\"identity\") +\n",
    "\tfacet_wrap(~metric, ncol=1, scales=\"free\")"
   ]
  },
  {
   "cell_type": "code",
   "execution_count": null,
   "id": "5b53b747",
   "metadata": {},
   "outputs": [],
   "source": [
    "ggplot(samphist, aes(x=missing_prop)) +\n",
    "    geom_histogram()"
   ]
  },
  {
   "cell_type": "code",
   "execution_count": null,
   "id": "8a6cad55",
   "metadata": {
    "lines_to_next_cell": 2
   },
   "outputs": [],
   "source": [
    "bcfhist %>%\n",
    "    filter(metric==\"dp\") %>%\n",
    "ggplot(aes(x=percent, y=nsnp)) +\n",
    "\tgeom_bar(stat=\"identity\") +\n",
    "    lims(x=c(0, 251)) +\n",
    "    labs(x=\"Fold Coverage\", y=\"N. SNPs\")"
   ]
  },
  {
   "cell_type": "markdown",
   "id": "c0e26bf5",
   "metadata": {},
   "source": [
    "## Post-filtering\n",
    "\n",
    "These are the same stats again, but after we have filtered the data. "
   ]
  },
  {
   "cell_type": "code",
   "execution_count": null,
   "id": "855d08e2",
   "metadata": {},
   "outputs": [],
   "source": [
    "samphist = read_tsv(\"data/1_filtered/cuckoo_q50_dp10_maf3_mis80_samphist.tsv\")\n",
    "bcfhist = read_tsv(\"data/1_filtered/cuckoo_q50_dp10_maf3_mis80_bcfhist.tsv\")"
   ]
  },
  {
   "cell_type": "code",
   "execution_count": null,
   "id": "8d560fb3",
   "metadata": {},
   "outputs": [],
   "source": [
    "ggplot(bcfhist, aes(x=percent, y=..density.., weight=nsnp)) +\n",
    "\tgeom_density() +\n",
    "\tfacet_wrap(~metric, ncol=1, scales=\"free_x\")"
   ]
  },
  {
   "cell_type": "code",
   "execution_count": null,
   "id": "de1a1513",
   "metadata": {},
   "outputs": [],
   "source": [
    "ggplot(bcfhist, aes(x=percent, y=nsnp)) +\n",
    "\tgeom_bar(stat=\"identity\") +\n",
    "\tfacet_wrap(~metric, ncol=1, scales=\"free\")"
   ]
  },
  {
   "cell_type": "code",
   "execution_count": null,
   "id": "804dab7c",
   "metadata": {
    "lines_to_next_cell": 2
   },
   "outputs": [],
   "source": [
    "ggplot(samphist, aes(x=missing_prop)) +\n",
    "    geom_histogram()"
   ]
  },
  {
   "cell_type": "code",
   "execution_count": null,
   "id": "a2b5769b",
   "metadata": {},
   "outputs": [],
   "source": [
    "bcfhist %>%\n",
    "    filter(metric==\"miss\") %>%\n",
    "    ggplot(aes(x=percent, y=nsnp)) +\n",
    "        geom_bar(stat=\"identity\") +\n",
    "        lims(x=c(0, 25))"
   ]
  },
  {
   "cell_type": "code",
   "execution_count": null,
   "id": "1962c55a",
   "metadata": {
    "lines_to_next_cell": 2
   },
   "outputs": [],
   "source": [
    "bcfhist %>%\n",
    "    filter(metric==\"miss\", percent<25) %>%\n",
    "    summarise(nsnp=sum(nsnp))"
   ]
  },
  {
   "cell_type": "markdown",
   "id": "b9269a76",
   "metadata": {},
   "source": [
    "# RAD depth summaries\n"
   ]
  },
  {
   "cell_type": "code",
   "execution_count": null,
   "id": "b3a90018",
   "metadata": {},
   "outputs": [],
   "source": [
    "rad.samps = c(\"RAD_MD022\", \"RAD_MD028\", \"RAD_MD033\", \"RAD_MD034\")\n",
    "all.covhist = foreach(sample=rad.samps, .combine=rbind) %do% {\n",
    "\tcovhist.f = sprintf(\"data/radcover/%s_covhist.tsv\", sample)\n",
    "\tcovhist = read_tsv(covhist.f, col_names=c(\"coverage\", \"nbases\"))\n",
    "\tcovhist %>%\n",
    "\t\tmutate(sample=sample)\n",
    "}"
   ]
  },
  {
   "cell_type": "code",
   "execution_count": null,
   "id": "c62a4579",
   "metadata": {},
   "outputs": [],
   "source": [
    "all.covhist %>%\n",
    "\tfilter(coverage > 0, coverage < 1e4) %>%\n",
    "\tggplot(aes(x=coverage, y=nbases)) +\n",
    "\t\tgeom_bar(stat=\"identity\") +\n",
    "\t\tscale_y_log10() +\n",
    "\t\tscale_x_log10() +\n",
    "\t\tfacet_wrap(~sample, scales=\"free\", ncol=1)"
   ]
  },
  {
   "cell_type": "markdown",
   "id": "1909324e",
   "metadata": {},
   "source": [
    "# RAD-locus filtering\n"
   ]
  },
  {
   "cell_type": "code",
   "execution_count": null,
   "id": "e5ef75ff",
   "metadata": {},
   "outputs": [],
   "source": [
    "samphist = read_tsv(\"data/1_filtered/cuckoo_q50_dp10_maf3_mis80_radloci_samphist.tsv\")\n",
    "bcfhist = read_tsv(\"data/1_filtered/cuckoo_q50_dp10_maf3_mis80_radloci_bcfhist.tsv\")"
   ]
  },
  {
   "cell_type": "code",
   "execution_count": null,
   "id": "ad66aacf",
   "metadata": {
    "lines_to_next_cell": 2
   },
   "outputs": [],
   "source": [
    "meta = read_csv(\"../rawdata/cuckoo_metadata_oct2021.csv\")"
   ]
  },
  {
   "cell_type": "code",
   "execution_count": null,
   "id": "b49ff487",
   "metadata": {},
   "outputs": [],
   "source": [
    "ggplot(bcfhist, aes(x=percent, y=nsnp)) +\n",
    "\tgeom_bar(stat=\"identity\") +\n",
    "\tfacet_wrap(~metric, ncol=1, scales=\"free\") +\n",
    "    labs(title=\"RAD-locus Filtered SNP Stats\")"
   ]
  },
  {
   "cell_type": "code",
   "execution_count": null,
   "id": "007e38a7",
   "metadata": {},
   "outputs": [],
   "source": [
    "ggplot(samphist, aes(x=missing_prop)) +\n",
    "    geom_histogram() +\n",
    "    labs(title=\"RAD-locus Filtered Sample Missingness\")"
   ]
  },
  {
   "cell_type": "code",
   "execution_count": null,
   "id": "3dcb3a36",
   "metadata": {},
   "outputs": [],
   "source": [
    "str(meta)\n",
    "col.plot = meta %>%\n",
    "    left_join(samphist, by=c(\"Library_id\"=\"sample\"))"
   ]
  },
  {
   "cell_type": "code",
   "execution_count": null,
   "id": "5008beb9",
   "metadata": {},
   "outputs": [],
   "source": [
    "ggplot(col.plot, aes(x=missing_prop)) +\n",
    "    geom_histogram(aes(fill=Sample_type, colour=Sample_type)) +\n",
    "    labs(title=\"RAD-locus Filtered Sample Missingness\")"
   ]
  }
 ],
 "metadata": {
  "jupytext": {
   "cell_metadata_filter": "-all",
   "main_language": "R",
   "notebook_metadata_filter": "-all"
  },
  "kernelspec": {
   "display_name": "R",
   "language": "R",
   "name": "ir"
  },
  "language_info": {
   "codemirror_mode": "r",
   "file_extension": ".r",
   "mimetype": "text/x-r-source",
   "name": "R",
   "pygments_lexer": "r",
   "version": "4.0.4"
  }
 },
 "nbformat": 4,
 "nbformat_minor": 5
}
