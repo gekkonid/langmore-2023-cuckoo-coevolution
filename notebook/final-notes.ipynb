{
 "cells": [
  {
   "cell_type": "markdown",
   "id": "6d388fbb-c80c-4cc4-afb3-dd0a30a994bd",
   "metadata": {},
   "source": [
    "# Cuckoo genetics: final notes\n",
    "\n",
    "    author: Gekkonid Consulting\n",
    "    date: 2021-11-04"
   ]
  },
  {
   "cell_type": "code",
   "execution_count": 1,
   "id": "7133623b",
   "metadata": {
    "include": false,
    "name": "setup"
   },
   "outputs": [
    {
     "name": "stderr",
     "output_type": "stream",
     "text": [
      "── \u001b[1mAttaching packages\u001b[22m ─────────────────────────────────────────────────────────────────────────────────────────────────────────────────────────────────── tidyverse 1.3.2 ──\n",
      "\u001b[32m✔\u001b[39m \u001b[34mggplot2\u001b[39m 3.4.0      \u001b[32m✔\u001b[39m \u001b[34mpurrr  \u001b[39m 1.0.0 \n",
      "\u001b[32m✔\u001b[39m \u001b[34mtibble \u001b[39m 3.1.8      \u001b[32m✔\u001b[39m \u001b[34mdplyr  \u001b[39m 1.0.10\n",
      "\u001b[32m✔\u001b[39m \u001b[34mtidyr  \u001b[39m 1.2.1      \u001b[32m✔\u001b[39m \u001b[34mstringr\u001b[39m 1.5.0 \n",
      "\u001b[32m✔\u001b[39m \u001b[34mreadr  \u001b[39m 2.1.3      \u001b[32m✔\u001b[39m \u001b[34mforcats\u001b[39m 0.5.2 \n",
      "── \u001b[1mConflicts\u001b[22m ────────────────────────────────────────────────────────────────────────────────────────────────────────────────────────────────────── tidyverse_conflicts() ──\n",
      "\u001b[31m✖\u001b[39m \u001b[34mdplyr\u001b[39m::\u001b[32mfilter()\u001b[39m masks \u001b[34mstats\u001b[39m::filter()\n",
      "\u001b[31m✖\u001b[39m \u001b[34mdplyr\u001b[39m::\u001b[32mlag()\u001b[39m    masks \u001b[34mstats\u001b[39m::lag()\n"
     ]
    },
    {
     "ename": "ERROR",
     "evalue": "Error in library(SNPRelate): there is no package called ‘SNPRelate’\n",
     "output_type": "error",
     "traceback": [
      "Error in library(SNPRelate): there is no package called ‘SNPRelate’\nTraceback:\n",
      "1. library(SNPRelate)"
     ]
    }
   ],
   "source": [
    "library(tidyverse)\n",
    "library(SNPRelate)\n",
    "library(pcaMethods)\n",
    "library(adegenet)\n",
    "library(hierfstat)\n",
    "knitr::opts_chunk$set(\n",
    "  fig.width = 8, fig.height = 6, message=F\n",
    ")\n",
    "if (!dir.exists('out/final')) dir.create('out/final')"
   ]
  },
  {
   "cell_type": "markdown",
   "id": "5489c897",
   "metadata": {},
   "source": [
    "## Background\n",
    "\n",
    "This study examines the population structure among Little Bronze Cuckoos using hyRAD, a combination of hybrid capture and RADseq. The samples were a mix of museum samples, mostly egg shells, nests, feathers or other ancient samples, and fresh samples, mostly adults (blood), with a smaller number of preserved chicks or embryos.\n",
    "\n",
    "We obtained read data for 86 samples. Of these, 73 were hyRAD samples, 4 were RADseq libraries from which hybridisation probes were created, and the remaining nine were negative controls of various forms.\n",
    "\n",
    "## Variant calling\n",
    "\n",
    "#### Detection of putative RAD loci"
   ]
  },
  {
   "cell_type": "markdown",
   "id": "b781184d",
   "metadata": {},
   "source": [
    "We called variants using the [Acanthophis](https://github.com/kdm9/Acanthophis) pipeline. Briefly, we aligned reads to the Common Cuckoo reference genome (TODO: find and add correct genbank ID) with [BWA-MEM](https://arxiv.org/abs/1303.3997), and marked PCR duplicate reads with [samtools markdup](https://pubmed.ncbi.nlm.nih.gov/33590861). We called variants genome-wide with [samtools mpileup](http://www.ncbi.nlm.nih.gov/pubmed/21903627), and normalised variants around indels with [bcftools norm](https://pubmed.ncbi.nlm.nih.gov/33590861). We then filtered variants: first, we kept only variants nearby putative RAD loci (see below). We filtered remaining variants, keeping only those that met the following criteria: biallelic SNPs, variant quality > 50, total site depth > 10, total site depth < 1000, minor allele frequency > 3%, missing data < 80%. We performed further filtering for some subsequent analyses as detailed below.\n",
    "\n",
    "We identified putative RAD loci using two complimentary metrics. We used [radsim](https://github.com/kdm9/radhax/) to digitally digest the Cuckoo reference genome and report valid ddRAD loci of length 50-500bp bordered by one EcoRI and MspII restriction site each. We then aligned source ddRAD libraries for four samples (TODO: which) to the cuckoo reference. We then calculated the coverage of each putative RAD locus identified by radsim using the combined four ddRAD libraries (using [mosDepth](https://academic.oup.com/bioinformatics/article/34/5/867/4583630?guestAccessKey=35b55064-4566-4ab3-a769-32916fa1c6e6)). We finally kept putative RAD loci which had at least 5x coverage for at least 50bp. In total, we identified approximately 8000 such putative loci."
   ]
  },
  {
   "cell_type": "markdown",
   "id": "1a05b014",
   "metadata": {},
   "source": [
    "## Initial genetic analyses\n",
    "\n",
    "### Data quality\n",
    "\n",
    "Our first analyses concern data quality: what proportion of data is missing, both per-SNP and per-sample?"
   ]
  },
  {
   "cell_type": "code",
   "execution_count": 2,
   "id": "daa93be5",
   "metadata": {},
   "outputs": [
    {
     "name": "stderr",
     "output_type": "stream",
     "text": [
      "\u001b[1mRows: \u001b[22m\u001b[34m82\u001b[39m \u001b[1mColumns: \u001b[22m\u001b[34m2\u001b[39m\n",
      "\u001b[36m──\u001b[39m \u001b[1mColumn specification\u001b[22m \u001b[36m────────────────────────────────────────────────────────────────────────────────────────────────────────────────────────────────────────────────────\u001b[39m\n",
      "\u001b[1mDelimiter:\u001b[22m \"\\t\"\n",
      "\u001b[31mchr\u001b[39m (1): sample\n",
      "\u001b[32mdbl\u001b[39m (1): missing_prop\n",
      "\n",
      "\u001b[36mℹ\u001b[39m Use `spec()` to retrieve the full column specification for this data.\n",
      "\u001b[36mℹ\u001b[39m Specify the column types or set `show_col_types = FALSE` to quiet this message.\n",
      "\u001b[1mRows: \u001b[22m\u001b[34m6939\u001b[39m \u001b[1mColumns: \u001b[22m\u001b[34m3\u001b[39m\n",
      "\u001b[36m──\u001b[39m \u001b[1mColumn specification\u001b[22m \u001b[36m────────────────────────────────────────────────────────────────────────────────────────────────────────────────────────────────────────────────────\u001b[39m\n",
      "\u001b[1mDelimiter:\u001b[22m \"\\t\"\n",
      "\u001b[31mchr\u001b[39m (1): metric\n",
      "\u001b[32mdbl\u001b[39m (2): percent, nsnp\n",
      "\n",
      "\u001b[36mℹ\u001b[39m Use `spec()` to retrieve the full column specification for this data.\n",
      "\u001b[36mℹ\u001b[39m Specify the column types or set `show_col_types = FALSE` to quiet this message.\n",
      "\u001b[1mRows: \u001b[22m\u001b[34m103\u001b[39m \u001b[1mColumns: \u001b[22m\u001b[34m17\u001b[39m\n",
      "\u001b[36m──\u001b[39m \u001b[1mColumn specification\u001b[22m \u001b[36m────────────────────────────────────────────────────────────────────────────────────────────────────────────────────────────────────────────────────\u001b[39m\n",
      "\u001b[1mDelimiter:\u001b[22m \",\"\n",
      "\u001b[31mchr\u001b[39m (15): Species, Species_common_name, Host, Host_common_name, Adult_morph,...\n",
      "\u001b[32mdbl\u001b[39m  (2): Lat, Long\n",
      "\n",
      "\u001b[36mℹ\u001b[39m Use `spec()` to retrieve the full column specification for this data.\n",
      "\u001b[36mℹ\u001b[39m Specify the column types or set `show_col_types = FALSE` to quiet this message.\n"
     ]
    }
   ],
   "source": [
    "samphist = read_tsv(\"data/1_filtered/cuckoo_q50_dp10_maf3_mis80_radloci_samphist.tsv\")\n",
    "bcfhist = read_tsv(\"data/1_filtered/cuckoo_q50_dp10_maf3_mis80_radloci_bcfhist.tsv\")\n",
    "meta = read_csv(\"../rawdata/cuckoo_metadata_oct2021.csv\")"
   ]
  },
  {
   "cell_type": "markdown",
   "id": "66cfcdc0",
   "metadata": {},
   "source": [
    "First, per-snp statistics:"
   ]
  },
  {
   "cell_type": "code",
   "execution_count": 28,
   "id": "75c67ab1",
   "metadata": {},
   "outputs": [
    {
     "data": {
      "image/png": "[encoded data removed]",
      "text/plain": [
       "plot without title"
      ]
     },
     "metadata": {
      "image/png": {
       "height": 420,
       "width": 420
      }
     },
     "output_type": "display_data"
    }
   ],
   "source": [
    "ggplot(bcfhist, aes(x=percent, y=nsnp)) +\n",
    "    geom_bar(stat=\"identity\") +\n",
    "    facet_wrap(~metric, ncol=1, scales=\"free\", labeller = as_labeller(\n",
    "        c(\"af\"=\"Allele Frequency (%)\", \"dp\"=\"Total Read Depth (# Reads)\",\n",
    "          \"miss\"=\"Missing Data (%)\", \"qual\"=\"PHRED-scaled Variant Quality\")\n",
    "    )) +\n",
    "    labs(title=\"RAD-locus Filtered SNP Stats\", y=\"# SNPs\", x=NULL) +\n",
    "    theme_bw()\n",
    "ggsave(\"out/final/radstats.pdf\", height=6, width=5)"
   ]
  },
  {
   "cell_type": "markdown",
   "id": "cc5e6520",
   "metadata": {},
   "source": [
    "Overall, there is a significant number of SNPs with a large amount of missing data. The other statistics are as expected, particular the large number of low-MAF alleles including many which are high frequency (almost fixed differences between LBC and European Cuckoo).\n",
    "\n",
    "Next, the samples:"
   ]
  },
  {
   "cell_type": "code",
   "execution_count": 33,
   "id": "fa0b445d",
   "metadata": {},
   "outputs": [
    {
     "name": "stderr",
     "output_type": "stream",
     "text": [
      "\u001b[1m\u001b[22m`stat_bin()` using `bins = 30`. Pick better value with `binwidth`.\n",
      "Warning message:\n",
      "“\u001b[1m\u001b[22mRemoved 21 rows containing non-finite values (`stat_bin()`).”\n",
      "\u001b[1m\u001b[22m`stat_bin()` using `bins = 30`. Pick better value with `binwidth`.\n",
      "Warning message:\n",
      "“\u001b[1m\u001b[22mRemoved 21 rows containing non-finite values (`stat_bin()`).”\n"
     ]
    },
    {
     "data": {
      "image/png": "[encoded data removed]",
      "text/plain": [
       "plot without title"
      ]
     },
     "metadata": {
      "image/png": {
       "height": 420,
       "width": 420
      }
     },
     "output_type": "display_data"
    }
   ],
   "source": [
    "col.plot = meta %>%\n",
    "    left_join(samphist, by=c(\"Library_id\"=\"sample\"))\n",
    "ggplot(col.plot, aes(x=missing_prop*100)) +\n",
    "    geom_histogram(aes(fill=Sample_type, colour=Sample_type)) +\n",
    "    scale_y_continuous(breaks=seq(0, 12, 2)) +\n",
    "    geom_vline(xintercept = 45) +\n",
    "    labs(title=\"RAD-locus Filtered Sample Missingness\",\n",
    "        y=\"# Samples\", x=\"Percent Missing Data\") +\n",
    "    theme_bw()\n",
    "ggsave(\"out/final/sample-missing.pdf\", height=4, width=5)"
   ]
  },
  {
   "cell_type": "markdown",
   "id": "ce850b03",
   "metadata": {},
   "source": [
    "This is somewhat disheartening: despite our best efforts to find the highest-quality SNPs, the vast majority of museum samples (e.g. Museum_eggshell) have a huge amount of missing data. This will confound any joint analysis, and so at this point we split the dataset in two: fresh samples (with <45% missing data), and museum samples (>45% missing data). "
   ]
  },
  {
   "cell_type": "markdown",
   "id": "ad55a9eb",
   "metadata": {
    "lines_to_next_cell": 0
   },
   "source": [
    "Let's"
   ]
  },
  {
   "cell_type": "code",
   "execution_count": null,
   "id": "0501d153",
   "metadata": {},
   "outputs": [],
   "source": [
    "gds = snpgdsOpen(\"data/2_popgen/cuckoo_q50_dp10_maf3_mis80_radloci.gds\", allow.duplicate=T)\n",
    "gds.sum = snpgdsSummary(gds)\n",
    "\n",
    "smr = snpgdsSampMissRate(gds)\n",
    "hist(smr, breaks=60, main=\"Sample Missingness Rate\")\n",
    "abline(v=0.45)\n",
    "\n",
    "samp.fresh = gds.sum$sample.id[smr < 0.45]\n",
    "meta.fresh = meta[match(samp.fresh, meta$Library_id),]\n",
    "\n",
    "samp.museum  = gds.sum$sample.id[smr >= 0.45]"
   ]
  },
  {
   "cell_type": "markdown",
   "id": "00a8d8c3",
   "metadata": {},
   "source": [
    "This leaves us with 29 fresh individuals and 44 museum samples."
   ]
  },
  {
   "cell_type": "markdown",
   "id": "3638abdc",
   "metadata": {},
   "source": [
    "## Museum samples\n",
    "\n",
    "We will first do a basic PCA analysis of the museum samples."
   ]
  },
  {
   "cell_type": "code",
   "execution_count": null,
   "id": "31a214b3",
   "metadata": {
    "fig.height": 10,
    "fig.width": 12
   },
   "outputs": [],
   "source": [
    "pca.museum = snpgdsPCA(gds, sample.id=samp.museum, num.thread=12,\n",
    "                       autosome.only=F, missing.rate=0.9)\n",
    "\n",
    "miss.col.mus = samphist[match(pca.museum$sample.id, samphist$sample),]$missing_prop %>%\n",
    "    cut(breaks=5)\n",
    "\n",
    "plot(pca.museum, 1:10, col=miss.col.mus, pch=19, oma=c(14,4,4,4))\n",
    "par(xpd=TRUE)\n",
    "legend(\"bottom\", legend=levels(miss.col.mus), pch=19, col=1:5, ncol=3,\n",
    "       y.intersp=0.5, x.intersp=0.5, text.width=0.2)\n",
    "par(xpd=F)\n",
    "dev.copy(pdf, \"out/final/museum-samples.pdf\", width=12, height=10)\n",
    "dev.off()"
   ]
  },
  {
   "cell_type": "markdown",
   "id": "90875935",
   "metadata": {},
   "source": [
    "It appears that the first several PCs describe the more successful samples that deviate from the \"cloud\" of low coverage samples. Even in later axes, it seems as though the patterns are driven by missing data (or something correlated to it). This is as far as we will investigate this dataset. The minuscule amount of starting material means we simply don't have enough data to make any biological inference, as all major patterns seem driven by technical noise.\n",
    "\n",
    "## Fresh samples\n",
    "\n",
    "Several analyses we wish to do are implemented outside of SNPRelate, so first we need to extract the SNPs into a normal R matrix. We first get and plot some per-SNP stats, choosing some enhanced filtering thresholds for this subset of the data."
   ]
  },
  {
   "cell_type": "code",
   "execution_count": null,
   "id": "407a822b",
   "metadata": {
    "lines_to_next_cell": 2
   },
   "outputs": [],
   "source": [
    "snprate = snpgdsSNPRateFreq(gds, sample.id = samp.fresh)\n",
    "hist(snprate$MissingRate, breaks=30, main=\"Fresh sample SNP missing rate\")\n",
    "abline(v=0.3)\n",
    "hist(snprate$MinorFreq, breaks=30, main=\"Fresh sample SNP MAF\")\n",
    "abline(v=0.03)\n",
    "good.snp = snprate$MissingRate < 0.3 & snprate$MinorFreq > 0.03\n",
    "table(good.snp)"
   ]
  },
  {
   "cell_type": "markdown",
   "id": "e56af381",
   "metadata": {},
   "source": [
    "The missingness rate looks really good for most of these, and MAF follows a pretty common pattern. We exclude the long tail of high missingness SNPs, and throw out very rare alleles (mainly to reduce the number of SNPs). In total we have 25k good SNPs, which is more than we expected but not by a concerning amount."
   ]
  },
  {
   "cell_type": "code",
   "execution_count": null,
   "id": "9f44e754",
   "metadata": {},
   "outputs": [],
   "source": [
    "fresh.gn = snpgdsGetGeno(gds, sample.id = samp.fresh, snp.id=which(good.snp))"
   ]
  },
  {
   "cell_type": "markdown",
   "id": "07ba3b14",
   "metadata": {},
   "source": [
    "### Probabilistic PCA\n",
    "\n",
    "We use PPCA from the [pcaMethods](https://academic.oup.com/bioinformatics/article/23/9/1164/272597) package to do a PCA, as it performs well in the presence of missing data where traditional PCA would be influenced by patterns of data missingness. Note that unlike the museum samples, the overall missingness rate in these fresh samples is high enough that we have confidence in this process."
   ]
  },
  {
   "cell_type": "code",
   "execution_count": null,
   "id": "fb3fc9ce",
   "metadata": {
    "fig.height": 10,
    "fig.width": 12,
    "lines_to_next_cell": 2
   },
   "outputs": [],
   "source": [
    "bpc = pca(fresh.gn, method=\"ppca\", center=T, nPcs=5, maxSteps=1000)\n",
    "bpc.scores = scores(bpc)\n",
    "\n",
    "morph.col = case_when(\n",
    "    ! is.na(meta.fresh$Adult_morph) ~ meta.fresh$Adult_morph,\n",
    "    ! is.na(meta.fresh$Host) ~ paste0(\"Chick_\", meta.fresh$Host),\n",
    "    T ~ \"Chick_unknown_host\") %>%\n",
    "    as.factor\n",
    "pairs(bpc.scores, col=morph.col, pch=19, oma=c(14,4,4,4))\n",
    "par(xpd=TRUE)\n",
    "legend(\"bottom\", legend=levels(morph.col), pch=19, ncol=3,\n",
    "       col=1:length(levels(morph.col)), y.intersp=0.5, x.intersp=0.5,\n",
    "       text.width=0.2)\n",
    "par(xpd=F)\n",
    "dev.copy(pdf, \"out/final/fresh-prob-pca.pdf\", width=12, height=10)\n",
    "dev.off()"
   ]
  },
  {
   "cell_type": "markdown",
   "id": "374300b2",
   "metadata": {},
   "source": [
    "So that looks a lot better than the default SVD-based PCA. We can see that\n",
    "despite there being a quite dispersed signal, there are some signs of very\n",
    "weak population structure between morphs.  It looks like most of the chicks\n",
    "are probably QLD russatus, given where they cluster. They aren't getting\n",
    "split any time soon (hopefully) but I think there is clearly some genetic\n",
    "evidence to support very weak and likely nascent population differentiation.\n",
    "\n",
    "### DAPC\n",
    "\n",
    "I find DAPC to be a bit of a funny method, as it will *always* find the expected structure. I do this analysis mostly for completeness, as it is a good way of showing structure visually when a vanilla PCA gets swamped by technical noise as is the case to some extent here.\n",
    "\n",
    "Currently our metadata would count \"chicks\" as separate population(s), so we exclude them for DAPC and FST"
   ]
  },
  {
   "cell_type": "code",
   "execution_count": null,
   "id": "8caa2602",
   "metadata": {},
   "outputs": [],
   "source": [
    "meta.adult = meta.fresh %>%\n",
    "    filter(!is.na(Adult_morph))\n",
    "samp.adult = meta.adult %>%\n",
    "    pull(Library_id)\n",
    "adult.gn = snpgdsGetGeno(gds, sample.id = samp.adult, snp.id=which(good.snp))\n",
    "adult.gl = new(\"genlight\", gen=adult.gn, ploidy=2, indnames=samp.adult)"
   ]
  },
  {
   "cell_type": "code",
   "execution_count": null,
   "id": "ecb09a3e",
   "metadata": {},
   "outputs": [],
   "source": [
    "dapc.morph =  dapc(adult.gl, as.factor(meta.adult$Adult_morph), n.pca=20, n.da=4)\n",
    "scatter(dapc.morph)"
   ]
  },
  {
   "cell_type": "markdown",
   "id": "e686be8f",
   "metadata": {},
   "source": [
    "Unsurprisingly, DAPC cleanly splits our populations by morph. This is totally expected, as DAPC seeks to maximise within-group similarity and inter-group distance. This is in no way evidence for population structure."
   ]
  },
  {
   "cell_type": "markdown",
   "id": "57f6ac7b",
   "metadata": {},
   "source": [
    "### Population differentiation: $F_{ST}$\n",
    "\n",
    "We will use hierfstat to compute $F_{ST}$.\n"
   ]
  },
  {
   "cell_type": "code",
   "execution_count": null,
   "id": "81e07036",
   "metadata": {
    "cache": true,
    "lines_to_next_cell": 0
   },
   "outputs": [],
   "source": [
    "hierf.dat = as.data.frame(cbind(as.factor(meta.adult$Adult_morph), as.matrix(adult.gl)))\n",
    "pwfst = pairwise.WCfst(hierf.dat)"
   ]
  },
  {
   "cell_type": "code",
   "execution_count": null,
   "id": "1c1b2981",
   "metadata": {},
   "outputs": [],
   "source": [
    "colnames(pwfst) = rownames(pwfst) = levels(as.factor(meta.adult$Adult_morph))\n",
    "pwfst"
   ]
  },
  {
   "cell_type": "markdown",
   "id": "29e591ef",
   "metadata": {},
   "source": [
    "The amount of divergence in these samples is minuscule: inter-population $F_{ST}$ is under 1%. With this density of sampling we can't comment on the shape of population structure in LBCs, but we can say that be it just IBD or discrete population structure (or, as is most likely, both), the nuclear differentiation between morphs is very weak.\n",
    "\n",
    "It seems daft to do so with such low FSTs, but for ease of comparison to previous data, let's make a dendrogram of the FST matrix."
   ]
  },
  {
   "cell_type": "code",
   "execution_count": null,
   "id": "ab3f1d4c",
   "metadata": {
    "lines_to_next_cell": 2
   },
   "outputs": [],
   "source": [
    "pwfst.d = pwfst\n",
    "diag(pwfst.d) = 0\n",
    "dend = pwfst.d %>%\n",
    "    as.dist() %>%\n",
    "    hclust()\n",
    "pdf(\"out/final/fst-dendro.pdf\")\n",
    "plot(dend)\n",
    "dev.off()\n",
    "plot(dend)"
   ]
  },
  {
   "cell_type": "markdown",
   "id": "02b0b602",
   "metadata": {},
   "source": [
    "# Biological take-home messages\n",
    "\n",
    "1. The museum sample dataset simply had too little starting DNA to make useful\n",
    "   hyRAD libraries, and the resulting data had too much missing data to make\n",
    "   any biological inference.\n",
    "2. The fresh sample dataset is great quality, proving the hyRAD method works\n",
    "   well if the staring WGS libraries are of acceptable quality.\n",
    "3. Probabilistic PCA among fresh samples reveals some weak population structure.\n",
    "4. There is no evidence for or against any hypothesis of host preference\n",
    "   differentiation among chicks. With only four fresh chick samples, we don't\n",
    "   have any way to definitively answer if adult morphs are linked to host\n",
    "   preference. \n",
    "5. DAPC shows very clear divergence between populations, however DAPC will\n",
    "   always do so with data of any reasonable quality.\n",
    "6. $F_{ST}$ shows that the relative divergence is very low (<1%). While this\n",
    "   might be an underestimate ($F_{ST}$ will be underestimated in the presence\n",
    "   of technical noise), the reasonably high quality of the dataset makes it\n",
    "   unlikely there is strong structure by morph (i.e. the dataset is not so\n",
    "   noisy as to override a strong signal, though I would not be surprised if\n",
    "   the true $F_{ST}$ was e.g. 3-5%).\n",
    "7. There is little nuclear evidence for strong divergence between morphs. The morphs\n",
    "   may be due to IBD, or to very weak discrete structure, or morphs may be\n",
    "   inherited maternally such that morph differentiation is not apparent in bulk\n",
    "   nuclear genetic variation."
   ]
  }
 ],
 "metadata": {
  "jupytext": {
   "cell_metadata_filter": "fig.width,fig.height,cache,name,include,-all",
   "main_language": "R",
   "notebook_metadata_filter": "-all"
  },
  "kernelspec": {
   "display_name": "R",
   "language": "R",
   "name": "ir"
  },
  "language_info": {
   "codemirror_mode": "r",
   "file_extension": ".r",
   "mimetype": "text/x-r-source",
   "name": "R",
   "pygments_lexer": "r",
   "version": "4.0.4"
  }
 },
 "nbformat": 4,
 "nbformat_minor": 5
}
