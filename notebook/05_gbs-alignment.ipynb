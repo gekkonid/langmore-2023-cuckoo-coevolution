{
 "cells": [
  {
   "cell_type": "code",
   "execution_count": null,
   "id": "ea83e3c0",
   "metadata": {},
   "outputs": [],
   "source": [
    "module load samtools parallel\n",
    "mkdir -p data/radcover"
   ]
  },
  {
   "cell_type": "code",
   "execution_count": null,
   "id": "c5ed5fe9",
   "metadata": {},
   "outputs": [],
   "source": [
    "find ../data/alignments/samples/bwa/cuculus_canorus/ -name RAD\\*.bam | \\\n",
    "    parallel samtools coverage -o data/radcover/{/.}.tsv {}"
   ]
  },
  {
   "cell_type": "code",
   "execution_count": null,
   "id": "bd12f0d6",
   "metadata": {},
   "outputs": [],
   "source": [
    "find ../data/alignments/samples/bwa/cuculus_canorus/ -name RAD\\*.bam | \\\n",
    "    parallel bedtools genomecov -d -split -ibam {} \\> data/radcover/{/.}.bed"
   ]
  },
  {
   "cell_type": "code",
   "execution_count": null,
   "id": "533a4d0a",
   "metadata": {},
   "outputs": [],
   "source": [
    "parallel cut -f 3 {} \\| seqhax clihist \\> data/radcover/{/.}_covhist.tsv ::: data/radcover/*.bed"
   ]
  }
 ],
 "metadata": {
  "jupytext": {
   "cell_metadata_filter": "-all",
   "main_language": "bash",
   "notebook_metadata_filter": "-all"
  },
  "kernelspec": {
   "display_name": "Python 3",
   "language": "python",
   "name": "python3"
  },
  "language_info": {
   "codemirror_mode": {
    "name": "ipython",
    "version": 3
   },
   "file_extension": ".py",
   "mimetype": "text/x-python",
   "name": "python",
   "nbconvert_exporter": "python",
   "pygments_lexer": "ipython3",
   "version": "3.9.2"
  }
 },
 "nbformat": 4,
 "nbformat_minor": 5
}
