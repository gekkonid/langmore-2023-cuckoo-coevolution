{
 "cells": [
  {
   "cell_type": "markdown",
   "id": "d6e96018",
   "metadata": {},
   "source": [
    "# Cuckoo variant filtering\n",
    "\n",
    "    date: 2021-10-24\n",
    "    author: Kevin Murray/Gekkonid Consulting\n",
    "\n",
    "This notebook takes the variant calls directly out of the Acanthophis\n",
    "pipeline and filters out obviously poor quality data. The aim of these steps\n",
    "is not to produce a gold-standard SNP set, rather to produce a smaller,\n",
    "decent quality SNP set suitable for application-specific filtering at the\n",
    " start of each subsequent analysis."
   ]
  },
  {
   "cell_type": "code",
   "execution_count": null,
   "id": "65341769",
   "metadata": {},
   "outputs": [],
   "source": [
    "set -xeuo pipefail"
   ]
  },
  {
   "cell_type": "markdown",
   "id": "a89afac8",
   "metadata": {},
   "source": [
    "## Statistics generation\n",
    "\n",
    "First, let's generate some stats for plotting."
   ]
  },
  {
   "cell_type": "code",
   "execution_count": null,
   "id": "d0fc50e9",
   "metadata": {},
   "outputs": [],
   "source": [
    "htshax bcfhist \\\n",
    "    -s data/1_filtered/raw_variants_samphist.tsv \\\n",
    "    data/0_raw/mpileup~bwa~cuculus_canorus~all_samples~filtered-default.vcf.gz \\\n",
    "    > data/1_filtered/raw_variants_bcfhist.tsv"
   ]
  },
  {
   "cell_type": "markdown",
   "id": "d3afe05f",
   "metadata": {},
   "source": [
    "## Basic filtering\n",
    "\n",
    "Here we perform some very basic filtering, removing sites\n",
    "that are not useful (mostly way too much missing data). "
   ]
  },
  {
   "cell_type": "code",
   "execution_count": null,
   "id": "4833a5d4",
   "metadata": {},
   "outputs": [],
   "source": [
    "bcftools view \\\n",
    "\t-m2 -M2 \\\n",
    "\t--exclude-uncalled \\\n",
    "\t--types snps \\\n",
    "\t-i 'QUAL >= 30 &&\n",
    "\t    INFO/DP >= 10 &&\n",
    "\t    INFO/AN >= 3 &&\n",
    "\t    F_MISSING < 0.8' \\\n",
    "\t-o data/1_filtered/cuckoo_q30_dp10_an3_mis80.vcf.gz  \\\n",
    "\t--threads 48 \\\n",
    "\t-Oz \\\n",
    "\tdata/0_raw/mpileup~bwa~cuculus_canorus~all_samples~filtered-default.vcf.gz\n",
    "bcftools index data/1_filtered/cuckoo_q30_dp10_an3_mis80.vcf.gz"
   ]
  },
  {
   "cell_type": "code",
   "execution_count": null,
   "id": "d39c1428",
   "metadata": {},
   "outputs": [],
   "source": [
    "htshax bcfhist \\\n",
    "    -s data/1_filtered/cuckoo_q30_dp10_an3_mis80_samphist.tsv \\\n",
    "    data/1_filtered/cuckoo_q30_dp10_an3_mis80.vcf.gz \\\n",
    "    > data/1_filtered/cuckoo_q30_dp10_an3_mis80_bcfhist.tsv"
   ]
  },
  {
   "cell_type": "markdown",
   "id": "66222631",
   "metadata": {},
   "source": [
    "And a more severe set. It seems missingness is the most sensitive axis, and\n",
    "from the histograms above, we see that the threshold is about 60% where there\n",
    "is still a reasonable number of SNPs present. We also up the quality to 50\n",
    "which cuts out a few more."
   ]
  },
  {
   "cell_type": "code",
   "execution_count": null,
   "id": "e84e9b75",
   "metadata": {},
   "outputs": [],
   "source": [
    "bcftools view \\\n",
    "\t-m2 -M2 \\\n",
    "\t--exclude-uncalled \\\n",
    "\t--types snps \\\n",
    "\t-i 'QUAL >= 50 &&\n",
    "\t    INFO/DP >= 10 &&\n",
    "\t    INFO/AN >= 6 &&\n",
    "\t    F_MISSING < 0.6' \\\n",
    "\t--threads 48 \\\n",
    "\t-o data/1_filtered/cuckoo_q50_dp10_an6_mis60.vcf.gz  \\\n",
    "\t-Oz \\\n",
    "\tdata/0_raw/mpileup~bwa~cuculus_canorus~all_samples~filtered-default.vcf.gz\n",
    "bcftools index data/1_filtered/cuckoo_q50_dp10_an6_mis60.vcf.gz"
   ]
  },
  {
   "cell_type": "markdown",
   "id": "6974b2c6",
   "metadata": {},
   "source": [
    "And finally, a set with a MAF filter to exclude the very large number of\n",
    "fixed differences to the reference."
   ]
  },
  {
   "cell_type": "code",
   "execution_count": null,
   "id": "137a6339",
   "metadata": {},
   "outputs": [],
   "source": [
    "bcftools view \\\n",
    "\t-m2 -M2 \\\n",
    "\t--exclude-uncalled \\\n",
    "\t--types snps \\\n",
    "\t-i 'QUAL >= 50 &&\n",
    "\t    INFO/DP >= 10 &&\n",
    "\t    INFO/DP <= 1000 &&\n",
    "\t    INFO/MAF > 0.03 &&\n",
    "\t    F_MISSING < 0.8' \\\n",
    "\t--threads 48 \\\n",
    "\t-o data/1_filtered/cuckoo_q50_dp10_maf3_mis80.vcf.gz  \\\n",
    "\t-Oz \\\n",
    "\tdata/0_raw/mpileup~bwa~cuculus_canorus~all_samples~filtered-default.vcf.gz\n",
    "bcftools index data/1_filtered/cuckoo_q50_dp10_maf3_mis80.vcf.gz"
   ]
  },
  {
   "cell_type": "code",
   "execution_count": null,
   "id": "80fb4d63",
   "metadata": {
    "lines_to_next_cell": 2
   },
   "outputs": [],
   "source": [
    "htshax bcfhist \\\n",
    "\t-s data/1_filtered/cuckoo_q50_dp10_maf3_mis80_samphist.tsv \\\n",
    "\tdata/1_filtered/cuckoo_q50_dp10_maf3_mis80.vcf.gz  \\\n",
    "\t> data/1_filtered/cuckoo_q50_dp10_maf3_mis80_bcfhist.tsv"
   ]
  },
  {
   "cell_type": "markdown",
   "id": "3989c8a0",
   "metadata": {
    "lines_to_next_cell": 2
   },
   "source": [
    "# RADseq digest of the reference genome\n",
    "\n",
    "First, we use radsim-rebed from radhax to digest the genome. This gives us\n",
    "a BED of RE sites. Specfically, `--length 400` gives us coordinates +-\n",
    "400bp from each RE site, which is in practice a putative RADseq locus. "
   ]
  },
  {
   "cell_type": "code",
   "execution_count": null,
   "id": "bc666768",
   "metadata": {
    "lines_to_next_cell": 2
   },
   "outputs": [],
   "source": [
    "radsim-digest \\\n",
    "    --genome ../rawdata/reference/GCA_017976375.1_bCucCan1.pri_genomic.fna \\\n",
    "    --ddrad \\\n",
    "    --enzyme HpaII \\\n",
    "    --enzyme2 EcoRI \\\n",
    "    --min 150 \\\n",
    "    --max 500 \\\n",
    "    --output-bed data/1_filtered/radseq-digest-sites.bed"
   ]
  },
  {
   "cell_type": "markdown",
   "id": "dbcd3ca4",
   "metadata": {},
   "source": [
    "The algorithm of radhax is a bit dumb in that it gives one entry for each\n",
    "RAD locus, and doesn't merge overlapping sites. So, we subsequently use bedtools merge\n",
    "to merge overlapping sites. This obviously doesn't equate exactly to a\n",
    "putative RAD locus, but is close enough for our purposes.\n",
    "\n",
    "Before merging, we have about 64k sites."
   ]
  },
  {
   "cell_type": "code",
   "execution_count": null,
   "id": "245195b6",
   "metadata": {},
   "outputs": [],
   "source": [
    "wc -l data/1_filtered/radseq-digest-sites.bed "
   ]
  },
  {
   "cell_type": "code",
   "execution_count": null,
   "id": "9d73c4f4",
   "metadata": {},
   "outputs": [],
   "source": [
    "bedtools merge -i data/1_filtered/radseq-digest-sites.bed -d 50 \\\n",
    "    > data/1_filtered/radseq-digest-sites-dedupe.bed "
   ]
  },
  {
   "cell_type": "markdown",
   "id": "af79238a",
   "metadata": {},
   "source": [
    "After merging, we are left with 56k sites"
   ]
  },
  {
   "cell_type": "code",
   "execution_count": null,
   "id": "dd84c94a",
   "metadata": {},
   "outputs": [],
   "source": [
    "wc -l data/1_filtered/radseq-digest-sites-dedupe.bed "
   ]
  },
  {
   "cell_type": "markdown",
   "id": "e856b67a",
   "metadata": {},
   "source": [
    "## Putative RAD locus coverage\n",
    "\n",
    "Now, we calculate coverage in the combined RAD library averaged for each\n",
    "of these putative RAD loci, so we can filter for loci that are present in\n",
    "the original RAD libraries. This will give a bit more empirical evidience\n",
    "to each putative locus.\n",
    "\n",
    "First we need to merge all RAD libraries into one big BAM"
   ]
  },
  {
   "cell_type": "code",
   "execution_count": null,
   "id": "f58d4af3",
   "metadata": {},
   "outputs": [],
   "source": [
    "samtools merge -o data/1_filtered/all_rad_libraries.bam \\\n",
    "    ../data/alignments/samples/bwa/cuculus_canorus/RAD_*.bam\n",
    "samtools index data/1_filtered/all_rad_libraries.bam "
   ]
  },
  {
   "cell_type": "markdown",
   "id": "0be299da",
   "metadata": {},
   "source": [
    "And now we use mosdepth to calculate median depths per region."
   ]
  },
  {
   "cell_type": "code",
   "execution_count": null,
   "id": "2c67388c",
   "metadata": {},
   "outputs": [],
   "source": [
    "./scripts/mosdepth \\\n",
    "    --by data/1_filtered/radseq-digest-sites-dedupe.bed \\\n",
    "    --thresholds 1,5,10,50,100,500,1000,5000,10000 \\\n",
    "    --threads 4 \\\n",
    "    --no-per-base \\\n",
    "    --mapq 10 \\\n",
    "    --fast-mode \\\n",
    "    data/1_filtered/all_rad_libraries_mosdepth \\\n",
    "    data/1_filtered/all_rad_libraries.bam "
   ]
  },
  {
   "cell_type": "markdown",
   "id": "712059ed",
   "metadata": {},
   "source": [
    "We then filter regions, keeping only those with at least 50bp\n",
    "covered at 5x coverage by the original RAD libraries. This might\n",
    "seem like a low threshold, but it weeds out the ~80%+ of\n",
    "putative sites with essentially zero coverage in the RAD\n",
    "library. "
   ]
  },
  {
   "cell_type": "code",
   "execution_count": null,
   "id": "70f2ff82",
   "metadata": {},
   "outputs": [],
   "source": [
    "zcat data/1_filtered/all_rad_libraries_mosdepth.thresholds.bed.gz | \\\n",
    "    awk '$6 > 50{printf(\"%s\\t%s\\t%s\\n\", $1, $2, $3);}' \\\n",
    "    > data/1_filtered/rad_loci_50bp5x.bed"
   ]
  },
  {
   "cell_type": "markdown",
   "id": "97823d0a",
   "metadata": {},
   "source": [
    "After all these filtering steps, we have a bit over 8k putative\n",
    "loci, which sounds low, but conservatively so."
   ]
  },
  {
   "cell_type": "code",
   "execution_count": null,
   "id": "9b87ec06",
   "metadata": {},
   "outputs": [],
   "source": [
    "wc -l data/1_filtered/rad_loci_50bp5x.bed"
   ]
  },
  {
   "cell_type": "markdown",
   "id": "8a3b573b",
   "metadata": {},
   "source": [
    "## Variant filtering\n",
    "\n",
    "And now we finally filter to within the putative RAD loci. We use the\n",
    "most strict variant filtering set."
   ]
  },
  {
   "cell_type": "code",
   "execution_count": null,
   "id": "0755fe28",
   "metadata": {},
   "outputs": [],
   "source": [
    "bcftools view \\\n",
    "\t-m2 -M2 \\\n",
    "\t--exclude-uncalled \\\n",
    "    --regions-file data/1_filtered/rad_loci_50bp5x.bed \\\n",
    "\t--types snps \\\n",
    "\t-i 'QUAL >= 50 &&\n",
    "\t    INFO/DP >= 10 &&\n",
    "\t    INFO/DP <= 1000 &&\n",
    "\t    INFO/MAF > 0.03 &&\n",
    "\t    F_MISSING < 0.8' \\\n",
    "\t--threads 48 \\\n",
    "\t-o data/1_filtered/cuckoo_q50_dp10_maf3_mis80_radloci.vcf.gz  \\\n",
    "\t-Oz \\\n",
    "\tdata/0_raw/mpileup~bwa~cuculus_canorus~all_samples~filtered-default.vcf.gz\n",
    "bcftools index data/1_filtered/cuckoo_q50_dp10_maf3_mis80_radloci.vcf.gz"
   ]
  },
  {
   "cell_type": "code",
   "execution_count": null,
   "id": "08e82584",
   "metadata": {},
   "outputs": [],
   "source": [
    "htshax bcfhist \\\n",
    "\t-s data/1_filtered/cuckoo_q50_dp10_maf3_mis80_radloci_samphist.tsv \\\n",
    "\tdata/1_filtered/cuckoo_q50_dp10_maf3_mis80_radloci.vcf.gz  \\\n",
    "\t> data/1_filtered/cuckoo_q50_dp10_maf3_mis80_radloci_bcfhist.tsv"
   ]
  }
 ],
 "metadata": {
  "jupytext": {
   "cell_metadata_filter": "-all",
   "main_language": "bash",
   "notebook_metadata_filter": "-all"
  },
  "kernelspec": {
   "display_name": "Python 3",
   "language": "python",
   "name": "python3"
  },
  "language_info": {
   "codemirror_mode": {
    "name": "ipython",
    "version": 3
   },
   "file_extension": ".py",
   "mimetype": "text/x-python",
   "name": "python",
   "nbconvert_exporter": "python",
   "pygments_lexer": "ipython3",
   "version": "3.9.2"
  }
 },
 "nbformat": 4,
 "nbformat_minor": 5
}
